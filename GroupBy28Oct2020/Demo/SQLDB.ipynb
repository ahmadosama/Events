{
    "metadata": {
        "kernelspec": {
            "name": "powershell",
            "display_name": "PowerShell"
        },
        "language_info": {
            "name": "powershell",
            "codemirror_mode": "shell",
            "mimetype": "text/x-sh",
            "file_extension": ".ps1"
        }
    },
    "nbformat_minor": 2,
    "nbformat": 4,
    "cells": [
        {
            "cell_type": "markdown",
            "source": [
                "# Provision Azure SQL Database"
            ],
            "metadata": {
                "azdata_cell_guid": "6039eb2f-55a2-4607-804b-5960c4e861a0"
            }
        },
        {
            "cell_type": "code",
            "source": [
                "set-location -path \"C:\\Events\\GroupBy28Oct2020\\Demo\"\r\n",
                " .\\ProvisionAzureSQLDatabase.ps1 -ResourceGroup Demo `\r\n",
                " -Location eastus `\r\n",
                " -SQLServer azsosqlserver `\r\n",
                " -UserName aosama `\r\n",
                " -Password \"Awesome@1234\" `\r\n",
                " -SQLDatabase stackoverflow2010test `\r\n",
                " -Edition basic `\r\n",
                " -AzureProfileFilePath C:\\Events\\GroupBy28Oct2020\\MyAzureProfile.json"
            ],
            "metadata": {
                "azdata_cell_guid": "ff13da60-244a-41a8-abb2-91067f345f4e",
                "tags": []
            },
            "outputs": [],
            "execution_count": null
        },
        {
            "cell_type": "markdown",
            "source": [
                "# DMA SKU Recommendation"
            ],
            "metadata": {
                "azdata_cell_guid": "83560b6a-50ef-4324-9179-6f0487f1f939"
            }
        },
        {
            "cell_type": "code",
            "source": [
                "Set-Location \"C:\\Program Files\\Microsoft Data Migration Assistant\\\"\r\n",
                ".\\SkuRecommendationDataCollectionScript.ps1 -ComputerName appvm `\r\n",
                "-OutputFilePath \"C:\\GroupBy\\Demo\\Capacity Planning\\DMASKURecommendation\\Counter.csv\"`\r\n",
                "-CollectionTimeInSeconds 2400 `\r\n",
                "-DbConnectionString \"Server=appvm;Initial Catalog=master;Integrated Security=SSPI;\""
            ],
            "metadata": {
                "azdata_cell_guid": "49c57a66-9702-4b97-ade9-e6a3249ee677",
                "tags": []
            },
            "outputs": [],
            "execution_count": null
        },
        {
            "cell_type": "markdown",
            "source": [
                "#  Create Service Endpoint"
            ],
            "metadata": {
                "azdata_cell_guid": "11fb7c6b-7dc8-4457-9d68-f8d20baab87b"
            }
        },
        {
            "cell_type": "code",
            "source": [
                "Set-Location \"C:\\Events\\GroupBy28Oct2020\\Demo\\Security\"\r\n",
                ".\\ServiceEndpoint-SQLDB.ps1 -vnetname demo-vnet `\r\n",
                " -resourcegroup demo `\r\n",
                " -subnetname appnet `\r\n",
                " -sqlserver aoazsqlserver `\r\n",
                " -AzureProfileFilePath C:\\Events\\GroupBy28Oct2020\\MyAzureProfile.json"
            ],
            "metadata": {
                "azdata_cell_guid": "11e96408-754f-4e80-bd7e-06e72da95e74",
                "tags": []
            },
            "outputs": [],
            "execution_count": null
        },
        {
            "cell_type": "markdown",
            "source": [
                "# Private Endpoint"
            ],
            "metadata": {
                "azdata_cell_guid": "ff3e8022-04b7-492a-b2f5-0de28f2e351f"
            }
        },
        {
            "cell_type": "code",
            "source": [
                "Set-Location \"C:\\Events\\GroupBy28Oct2020\\Demo\\Security\"\r\n",
                ".\\PrivateEndpoint-SQLDB.ps1 -vnetname demo-vnet `\r\n",
                "-PrivateEndpointname sqlprivateendpoint `\r\n",
                "-resourcegroup demo `\r\n",
                "-subnetname appnet `\r\n",
                "-sqlserver azsosqlserver `\r\n",
                "-AzureProfileFilePath C:\\Events\\GroupBy28Oct2020\\MyAzureProfile.json"
            ],
            "metadata": {
                "azdata_cell_guid": "494cf129-1fda-4b24-9ee3-3f5d33efd6d5"
            },
            "outputs": [],
            "execution_count": null
        },
        {
            "cell_type": "markdown",
            "source": [
                "#  Configure Geo-Replication"
            ],
            "metadata": {
                "azdata_cell_guid": "3d692453-0a31-4dba-aa04-4559f5b1103e"
            }
        },
        {
            "cell_type": "code",
            "source": [
                "Set-Location -Path \"C:\\Events\\GroupBy28Oct2020\\Demo\\HA&DR\"\r\n",
                ".\\Manage-ActiveGeoReplication.ps1 -ResourceGroup demo `\r\n",
                "-PrimarySQLServer azsosqlserver `\r\n",
                "-Username aosama `\r\n",
                "-Password Awesome@1234 `\r\n",
                "-SecondarySQLServer azsosqlservergeosecondary `\r\n",
                "-SecondaryServerLocation eastus2 `\r\n",
                "-DatabasesToReplicate stackoverflow2010test `\r\n",
                "-Operation \"Enable\" `\r\n",
                "-AzureProfileFilePath \"C:\\Events\\GroupBy28Oct2020\\MyAzureProfile.json\" `\r\n",
                "-Failover $False "
            ],
            "metadata": {
                "azdata_cell_guid": "b82119a9-8924-4059-9dd0-27bb3e252040",
                "tags": []
            },
            "outputs": [],
            "execution_count": null
        },
        {
            "cell_type": "markdown",
            "source": [
                "# Configure  Auto-Failover Groups"
            ],
            "metadata": {
                "azdata_cell_guid": "edd82552-af66-47c5-8518-b2bac07b5f59"
            }
        },
        {
            "cell_type": "code",
            "source": [
                "Set-Location -Path \"C:\\Events\\GroupBy28Oct2020\\Demo\\HA&DR\"\r\n",
                ".\\Manage-FailoverGroup.ps1 -ResourceGroup demo `\r\n",
                "-PrimarySqlServer azsosqlserver `\r\n",
                "-UserName aosama `\r\n",
                "-Password Awesome@1234 `\r\n",
                "-SecondarySqlServer azsosqlserverfailovergroupsecondary `\r\n",
                "-SecondaryServerLocation eastus2 `\r\n",
                "-Failover $False `\r\n",
                "-DatabasesToReplicate stackoverflow2010test `\r\n",
                "-FailoverGroupName azsogroup `\r\n",
                "-Operation \"Create\" `\r\n",
                "-AzureProfileFilePath C:\\Events\\GroupBy28Oct2020\\MyAzureProfile.json"
            ],
            "metadata": {
                "azdata_cell_guid": "7db6c589-b18c-4fa9-b2d8-2dcadf709c0f"
            },
            "outputs": [],
            "execution_count": null
        },
        {
            "cell_type": "markdown",
            "source": [
                "# Clean up"
            ],
            "metadata": {
                "azdata_cell_guid": "171cf0da-fb40-47b1-b66c-0d20306a05da"
            }
        },
        {
            "cell_type": "code",
            "source": [
                "Remove-AzSQLServer -ServerName azsosqlserver -ResourceGroupName demo"
            ],
            "metadata": {
                "azdata_cell_guid": "b253bedc-658d-44c8-88d8-a9dc16349857"
            },
            "outputs": [],
            "execution_count": null
        }
    ]
}